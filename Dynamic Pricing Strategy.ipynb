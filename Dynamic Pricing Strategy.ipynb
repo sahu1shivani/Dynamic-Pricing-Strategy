{
 "cells": [
  {
   "cell_type": "code",
   "execution_count": 2,
   "id": "dbb1f106-6b42-4c48-a0d0-a956ba02b84b",
   "metadata": {},
   "outputs": [
    {
     "name": "stdout",
     "output_type": "stream",
     "text": [
      "Defaulting to user installation because normal site-packages is not writeable\n",
      "Collecting plotly\n",
      "  Downloading plotly-5.24.1-py3-none-any.whl (19.1 MB)\n",
      "\u001b[K     |████████████████████████████████| 19.1 MB 3.5 MB/s eta 0:00:01\n",
      "\u001b[?25hRequirement already satisfied: packaging in ./Library/Python/3.9/lib/python/site-packages (from plotly) (23.1)\n",
      "Requirement already satisfied: tenacity>=6.2.0 in ./Library/Python/3.9/lib/python/site-packages (from plotly) (8.2.3)\n",
      "Installing collected packages: plotly\n",
      "Successfully installed plotly-5.24.1\n",
      "\u001b[33mWARNING: You are using pip version 21.2.4; however, version 24.3.1 is available.\n",
      "You should consider upgrading via the '/Library/Developer/CommandLineTools/usr/bin/python3 -m pip install --upgrade pip' command.\u001b[0m\n",
      "Note: you may need to restart the kernel to use updated packages.\n"
     ]
    }
   ],
   "source": [
    "pip install plotly\n"
   ]
  },
  {
   "cell_type": "code",
   "execution_count": 3,
   "id": "f034dbe7-561f-4cf3-bade-66908aec7346",
   "metadata": {},
   "outputs": [],
   "source": [
    "import pandas as pd\n",
    "import plotly.express as px\n",
    "import plotly.graph_objects as go"
   ]
  },
  {
   "cell_type": "code",
   "execution_count": 8,
   "id": "41ee980e-f0b4-4f19-bf2f-477696ef7cb8",
   "metadata": {},
   "outputs": [],
   "source": [
    "data=pd.read_csv('/Users/shivanisahu/Desktop/Datasets/dataset_dynamic_pricing.csv')\n"
   ]
  },
  {
   "cell_type": "code",
   "execution_count": 9,
   "id": "b0a542b7-c275-4c1b-a489-e5598ce10b07",
   "metadata": {},
   "outputs": [
    {
     "name": "stdout",
     "output_type": "stream",
     "text": [
      "   Number_of_Riders  Number_of_Drivers Location_Category  \\\n",
      "0                90                 45             Urban   \n",
      "1                58                 39          Suburban   \n",
      "2                42                 31             Rural   \n",
      "3                89                 28             Rural   \n",
      "4                78                 22             Rural   \n",
      "\n",
      "  Customer_Loyalty_Status  Number_of_Past_Rides  Average_Ratings  \\\n",
      "0                  Silver                    13             4.47   \n",
      "1                  Silver                    72             4.06   \n",
      "2                  Silver                     0             3.99   \n",
      "3                 Regular                    67             4.31   \n",
      "4                 Regular                    74             3.77   \n",
      "\n",
      "  Time_of_Booking Vehicle_Type  Expected_Ride_Duration  \\\n",
      "0           Night      Premium                      90   \n",
      "1         Evening      Economy                      43   \n",
      "2       Afternoon      Premium                      76   \n",
      "3       Afternoon      Premium                     134   \n",
      "4       Afternoon      Economy                     149   \n",
      "\n",
      "   Historical_Cost_of_Ride  \n",
      "0               284.257273  \n",
      "1               173.874753  \n",
      "2               329.795469  \n",
      "3               470.201232  \n",
      "4               579.681422  \n"
     ]
    }
   ],
   "source": [
    "print(data.head())"
   ]
  },
  {
   "cell_type": "code",
   "execution_count": 10,
   "id": "6908cbb6-81ac-421e-bd14-436d4aac453e",
   "metadata": {},
   "outputs": [
    {
     "name": "stdout",
     "output_type": "stream",
     "text": [
      "       Number_of_Riders  Number_of_Drivers  Number_of_Past_Rides  \\\n",
      "count       1000.000000        1000.000000           1000.000000   \n",
      "mean          60.372000          27.076000             50.031000   \n",
      "std           23.701506          19.068346             29.313774   \n",
      "min           20.000000           5.000000              0.000000   \n",
      "25%           40.000000          11.000000             25.000000   \n",
      "50%           60.000000          22.000000             51.000000   \n",
      "75%           81.000000          38.000000             75.000000   \n",
      "max          100.000000          89.000000            100.000000   \n",
      "\n",
      "       Average_Ratings  Expected_Ride_Duration  Historical_Cost_of_Ride  \n",
      "count      1000.000000              1000.00000              1000.000000  \n",
      "mean          4.257220                99.58800               372.502623  \n",
      "std           0.435781                49.16545               187.158756  \n",
      "min           3.500000                10.00000                25.993449  \n",
      "25%           3.870000                59.75000               221.365202  \n",
      "50%           4.270000               102.00000               362.019426  \n",
      "75%           4.632500               143.00000               510.497504  \n",
      "max           5.000000               180.00000               836.116419  \n"
     ]
    }
   ],
   "source": [
    "print(data.describe())"
   ]
  },
  {
   "cell_type": "code",
   "execution_count": 11,
   "id": "85a16024-7779-4148-ac67-0efd13d20048",
   "metadata": {},
   "outputs": [
    {
     "name": "stdout",
     "output_type": "stream",
     "text": [
      "<class 'pandas.core.frame.DataFrame'>\n",
      "RangeIndex: 1000 entries, 0 to 999\n",
      "Data columns (total 10 columns):\n",
      " #   Column                   Non-Null Count  Dtype  \n",
      "---  ------                   --------------  -----  \n",
      " 0   Number_of_Riders         1000 non-null   int64  \n",
      " 1   Number_of_Drivers        1000 non-null   int64  \n",
      " 2   Location_Category        1000 non-null   object \n",
      " 3   Customer_Loyalty_Status  1000 non-null   object \n",
      " 4   Number_of_Past_Rides     1000 non-null   int64  \n",
      " 5   Average_Ratings          1000 non-null   float64\n",
      " 6   Time_of_Booking          1000 non-null   object \n",
      " 7   Vehicle_Type             1000 non-null   object \n",
      " 8   Expected_Ride_Duration   1000 non-null   int64  \n",
      " 9   Historical_Cost_of_Ride  1000 non-null   float64\n",
      "dtypes: float64(2), int64(4), object(4)\n",
      "memory usage: 78.2+ KB\n",
      "None\n"
     ]
    }
   ],
   "source": [
    "print(data.info())"
   ]
  },
  {
   "cell_type": "code",
   "execution_count": 12,
   "id": "d5666a59-08a2-4991-bdee-2bd2608048f7",
   "metadata": {},
   "outputs": [
    {
     "name": "stdout",
     "output_type": "stream",
     "text": [
      "Number_of_Riders           0\n",
      "Number_of_Drivers          0\n",
      "Location_Category          0\n",
      "Customer_Loyalty_Status    0\n",
      "Number_of_Past_Rides       0\n",
      "Average_Ratings            0\n",
      "Time_of_Booking            0\n",
      "Vehicle_Type               0\n",
      "Expected_Ride_Duration     0\n",
      "Historical_Cost_of_Ride    0\n",
      "dtype: int64\n"
     ]
    }
   ],
   "source": [
    "print(data.isnull().sum())\n"
   ]
  },
  {
   "cell_type": "code",
   "execution_count": 16,
   "id": "e838ce23-72d6-4220-94a4-b7ad2e7bff09",
   "metadata": {},
   "outputs": [
    {
     "name": "stdout",
     "output_type": "stream",
     "text": [
      "Defaulting to user installation because normal site-packages is not writeable\n",
      "Collecting seaborn\n",
      "  Downloading seaborn-0.13.2-py3-none-any.whl (294 kB)\n",
      "\u001b[K     |████████████████████████████████| 294 kB 3.1 MB/s eta 0:00:01\n",
      "\u001b[?25hRequirement already satisfied: pandas>=1.2 in ./Library/Python/3.9/lib/python/site-packages (from seaborn) (2.1.4)\n",
      "Collecting matplotlib!=3.6.1,>=3.4\n",
      "  Downloading matplotlib-3.9.4-cp39-cp39-macosx_11_0_arm64.whl (7.8 MB)\n",
      "\u001b[K     |████████████████████████████████| 7.8 MB 7.5 MB/s eta 0:00:01\n",
      "\u001b[?25hRequirement already satisfied: numpy!=1.24.0,>=1.20 in ./Library/Python/3.9/lib/python/site-packages (from seaborn) (1.26.3)\n",
      "Collecting cycler>=0.10\n",
      "  Downloading cycler-0.12.1-py3-none-any.whl (8.3 kB)\n",
      "Requirement already satisfied: pillow>=8 in ./Library/Python/3.9/lib/python/site-packages (from matplotlib!=3.6.1,>=3.4->seaborn) (10.2.0)\n",
      "Collecting importlib-resources>=3.2.0\n",
      "  Downloading importlib_resources-6.5.2-py3-none-any.whl (37 kB)\n",
      "Collecting kiwisolver>=1.3.1\n",
      "  Downloading kiwisolver-1.4.7-cp39-cp39-macosx_11_0_arm64.whl (64 kB)\n",
      "\u001b[K     |████████████████████████████████| 64 kB 12.6 MB/s eta 0:00:01\n",
      "\u001b[?25hCollecting contourpy>=1.0.1\n",
      "  Downloading contourpy-1.3.0-cp39-cp39-macosx_11_0_arm64.whl (249 kB)\n",
      "\u001b[K     |████████████████████████████████| 249 kB 20.9 MB/s eta 0:00:01\n",
      "\u001b[?25hRequirement already satisfied: packaging>=20.0 in ./Library/Python/3.9/lib/python/site-packages (from matplotlib!=3.6.1,>=3.4->seaborn) (23.1)\n",
      "Collecting fonttools>=4.22.0\n",
      "  Downloading fonttools-4.55.3-cp39-cp39-macosx_10_9_universal2.whl (2.8 MB)\n",
      "\u001b[K     |████████████████████████████████| 2.8 MB 19.4 MB/s eta 0:00:01\n",
      "\u001b[?25hRequirement already satisfied: python-dateutil>=2.7 in ./Library/Python/3.9/lib/python/site-packages (from matplotlib!=3.6.1,>=3.4->seaborn) (2.8.2)\n",
      "Collecting pyparsing>=2.3.1\n",
      "  Downloading pyparsing-3.2.1-py3-none-any.whl (107 kB)\n",
      "\u001b[K     |████████████████████████████████| 107 kB 52.2 MB/s eta 0:00:01\n",
      "\u001b[?25hRequirement already satisfied: zipp>=3.1.0 in ./Library/Python/3.9/lib/python/site-packages (from importlib-resources>=3.2.0->matplotlib!=3.6.1,>=3.4->seaborn) (3.16.2)\n",
      "Requirement already satisfied: tzdata>=2022.1 in ./Library/Python/3.9/lib/python/site-packages (from pandas>=1.2->seaborn) (2023.4)\n",
      "Requirement already satisfied: pytz>=2020.1 in ./Library/Python/3.9/lib/python/site-packages (from pandas>=1.2->seaborn) (2023.3.post1)\n",
      "Requirement already satisfied: six>=1.5 in /Library/Developer/CommandLineTools/Library/Frameworks/Python3.framework/Versions/3.9/lib/python3.9/site-packages (from python-dateutil>=2.7->matplotlib!=3.6.1,>=3.4->seaborn) (1.15.0)\n",
      "Installing collected packages: pyparsing, kiwisolver, importlib-resources, fonttools, cycler, contourpy, matplotlib, seaborn\n",
      "Successfully installed contourpy-1.3.0 cycler-0.12.1 fonttools-4.55.3 importlib-resources-6.5.2 kiwisolver-1.4.7 matplotlib-3.9.4 pyparsing-3.2.1 seaborn-0.13.2\n",
      "\u001b[33mWARNING: You are using pip version 21.2.4; however, version 24.3.1 is available.\n",
      "You should consider upgrading via the '/Library/Developer/CommandLineTools/usr/bin/python3 -m pip install --upgrade pip' command.\u001b[0m\n",
      "Note: you may need to restart the kernel to use updated packages.\n"
     ]
    }
   ],
   "source": [
    "pip install seaborn\n"
   ]
  },
  {
   "cell_type": "code",
   "execution_count": 17,
   "id": "25f8b378-d526-43d6-bb71-7062cd842e8a",
   "metadata": {},
   "outputs": [
    {
     "name": "stderr",
     "output_type": "stream",
     "text": [
      "Matplotlib is building the font cache; this may take a moment.\n"
     ]
    }
   ],
   "source": [
    "import seaborn as sns"
   ]
  },
  {
   "cell_type": "code",
   "execution_count": 18,
   "id": "973e4145-1af9-4b0a-ac1a-8b86c922fc16",
   "metadata": {},
   "outputs": [
    {
     "data": {
      "text/plain": [
       "<Axes: ylabel='Historical_Cost_of_Ride'>"
      ]
     },
     "execution_count": 18,
     "metadata": {},
     "output_type": "execute_result"
    },
    {
     "data": {
      "image/png": "[encoded data removed]",
      "text/plain": [
       "<Figure size 640x480 with 1 Axes>"
      ]
     },
     "metadata": {},
     "output_type": "display_data"
    }
   ],
   "source": [
    "sns.boxplot(data['Historical_Cost_of_Ride'])"
   ]
  },
  {
   "cell_type": "code",
   "execution_count": null,
   "id": "37c7755d-6738-4e7b-bd63-efed03b3e0dc",
   "metadata": {},
   "outputs": [],
   "source": []
  }
 ],
 "metadata": {
  "kernelspec": {
   "display_name": "Python 3 (ipykernel)",
   "language": "python",
   "name": "python3"
  },
  "language_info": {
   "codemirror_mode": {
    "name": "ipython",
    "version": 3
   },
   "file_extension": ".py",
   "mimetype": "text/x-python",
   "name": "python",
   "nbconvert_exporter": "python",
   "pygments_lexer": "ipython3",
   "version": "3.9.6"
  }
 },
 "nbformat": 4,
 "nbformat_minor": 5
}
